{
 "cells": [
  {
   "cell_type": "code",
   "execution_count": 1,
   "id": "91e210f5-0fe7-4e0a-8def-6695b1079c4d",
   "metadata": {},
   "outputs": [],
   "source": [
    "import pandas as pd\n",
    "from sklearn.decomposition import PCA\n",
    "from sklearn.preprocessing import StandardScaler"
   ]
  },
  {
   "cell_type": "code",
   "execution_count": 2,
   "id": "ed2e51ef-3773-4ce5-9f82-8ffbd2bc27a8",
   "metadata": {},
   "outputs": [],
   "source": [
    "## LENDO BASE DE DADOS\n",
    "df1 = pd.read_csv('../Dados/CNN_Features/cnn_VGG16_256_max.csv')\n",
    "df2 = pd.read_csv('../Dados/CNN_Features/cnn_VGG16_256_avg.csv')\n",
    "df3 = pd.read_csv('../Dados/CNN_Features/cnn_VGG19_128_max.csv')\n",
    "df4 = pd.read_csv('../Dados/CNN_Features/cnn_VGG19_256_max.csv')\n",
    "df5 = pd.read_csv('../Dados/CNN_Features/cnn_VGG19_128_avg.csv')\n",
    "df6 = pd.read_csv('../Dados/CNN_Features/cnn_VGG19_256_avg.csv')\n",
    "\n",
    "def separation_features(dataframe):\n",
    "    dataframe_features = dataframe.iloc[:,:-1]\n",
    "    dataframe_classe = dataframe['classe']\n",
    "\n",
    "    return dataframe_features, dataframe_classe\n",
    "## SEPARANDO OS FEATURES DA CLASSE\n",
    "df1_features, df1_classe = separation_features(df1)\n",
    "df2_features, df2_classe = separation_features(df2)\n",
    "df3_features, df3_classe = separation_features(df3)\n",
    "df4_features, df4_classe = separation_features(df4)\n",
    "df5_features, df5_classe = separation_features(df5)\n",
    "df6_features, df6_classe = separation_features(df6)\n",
    "\n"
   ]
  },
  {
   "cell_type": "code",
   "execution_count": 3,
   "id": "32f730be-0de6-4d55-bad2-835d2702e1ec",
   "metadata": {},
   "outputs": [],
   "source": [
    "## APLICANDO O PCA\n",
    "def aplicar_PCA(dados_padronizados, n = 10):\n",
    "    PCA_10_df = PCA(n_components = n)\n",
    "    dados_pca_10 = PCA_10_df.fit_transform(dados_padronizados)\n",
    "\n",
    "    return dados_pca_10\n",
    "\n",
    "df1_dados_pca_10 = aplicar_PCA(df1_features)\n",
    "df2_dados_pca_10 = aplicar_PCA(df2_features)\n",
    "df3_dados_pca_10 = aplicar_PCA(df3_features)\n",
    "df4_dados_pca_10 = aplicar_PCA(df4_features)\n",
    "df5_dados_pca_10 = aplicar_PCA(df5_features)\n",
    "df6_dados_pca_10 = aplicar_PCA(df6_features)\n",
    "\n",
    "## Transformando em DataFrame novamente ##\n",
    "def transform_dataframe(pca_features, classe):\n",
    "   # Cria DataFrame com as colunas das componentes PCA\n",
    "    df = pd.DataFrame(pca_features, columns=[f'pca_{i}' for i in range(pca_features.shape[1])])\n",
    "    \n",
    "    # Adiciona coluna de classe\n",
    "    df['classe'] = classe\n",
    "    \n",
    "    return df\n",
    "\n",
    "df1_pca_10 = transform_dataframe(df1_dados_pca_10, df1_classe)\n",
    "df2_pca_10 = transform_dataframe(df2_dados_pca_10, df2_classe)\n",
    "df3_pca_10 = transform_dataframe(df3_dados_pca_10, df3_classe)\n",
    "df4_pca_10 = transform_dataframe(df4_dados_pca_10, df4_classe)\n",
    "df5_pca_10 = transform_dataframe(df5_dados_pca_10, df5_classe)\n",
    "df6_pca_10 = transform_dataframe(df6_dados_pca_10, df6_classe)\n",
    "\n",
    "df1_pca_10.to_csv('../Dados/PCA_Features/PCA_cnn_VGG16_256_max.csv', index=False)\n",
    "df2_pca_10.to_csv('../Dados/PCA_Features/PCA_cnn_VGG16_256_avg.csv', index=False)\n",
    "df3_pca_10.to_csv('../Dados/PCA_Features/PCA_cnn_VGG19_128_max.csv', index=False)\n",
    "df4_pca_10.to_csv('../Dados/PCA_Features/PCA_cnn_VGG19_256_max.csv', index=False)\n",
    "df5_pca_10.to_csv('../Dados/PCA_Features/PCA_cnn_VGG19_128_avg.csv', index=False)\n",
    "df6_pca_10.to_csv('../Dados/PCA_Features/PCA_cnn_VGG19_256_avg.csv', index=False)\n",
    "\n"
   ]
  },
  {
   "cell_type": "code",
   "execution_count": null,
   "id": "d097df0c-34b0-432c-ae81-f8a05ba0f60a",
   "metadata": {},
   "outputs": [],
   "source": []
  },
  {
   "cell_type": "code",
   "execution_count": null,
   "id": "ce361090-b13a-4847-8c5f-3f60a67136ae",
   "metadata": {},
   "outputs": [],
   "source": []
  }
 ],
 "metadata": {
  "kernelspec": {
   "display_name": "Python (TensorFlow 2.19)",
   "language": "python",
   "name": "tf219"
  },
  "language_info": {
   "codemirror_mode": {
    "name": "ipython",
    "version": 3
   },
   "file_extension": ".py",
   "mimetype": "text/x-python",
   "name": "python",
   "nbconvert_exporter": "python",
   "pygments_lexer": "ipython3",
   "version": "3.10.0"
  }
 },
 "nbformat": 4,
 "nbformat_minor": 5
}
