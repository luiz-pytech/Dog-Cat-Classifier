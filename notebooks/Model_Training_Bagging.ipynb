{
 "cells": [
  {
   "cell_type": "code",
   "execution_count": 1,
   "id": "a29d9028-5cb2-41d3-9009-ce816b623fda",
   "metadata": {},
   "outputs": [],
   "source": [
    "import numpy as np\n",
    "import pandas as pd\n"
   ]
  },
  {
   "cell_type": "code",
   "execution_count": 2,
   "id": "6850fb91-f75f-4f1f-b203-06f38d76cbe1",
   "metadata": {},
   "outputs": [],
   "source": [
    "## Função para preparação do holdout (separando classes e dados) ##\n",
    "def separation_features(dataframe):\n",
    "    df_features = dataframe.iloc[:, :-1]\n",
    "    df_classe = dataframe['classe']\n",
    "    return df_features, df_classe;\n",
    "\n",
    "## Lendo as bases: \n",
    "df1 = pd.read_csv('../Dados/CNN_Features/cnn_VGG16_256_max.csv')\n",
    "df2 = pd.read_csv('../Dados/CNN_Features/cnn_VGG16_256_avg.csv')\n",
    "df3 = pd.read_csv('../Dados/CNN_Features/cnn_VGG19_128_max.csv')\n",
    "df4 = pd.read_csv('../Dados/CNN_Features/cnn_VGG19_256_max.csv')\n",
    "df5 = pd.read_csv('../Dados/CNN_Features/cnn_VGG19_128_avg.csv')\n",
    "df6 = pd.read_csv('../Dados/CNN_Features/cnn_VGG19_256_avg.csv')\n",
    "\n",
    "df7 = pd.read_csv('../Dados/PCA_Features/PCA_cnn_VGG16_256_max.csv')\n",
    "df8 = pd.read_csv('../Dados/PCA_Features/PCA_cnn_VGG16_256_avg.csv')\n",
    "df9 = pd.read_csv('../Dados/PCA_Features/PCA_cnn_VGG19_128_max.csv')\n",
    "df10 = pd.read_csv('../Dados/PCA_Features/PCA_cnn_VGG19_256_max.csv')\n",
    "df11 = pd.read_csv('../Dados/PCA_Features/PCA_cnn_VGG19_128_avg.csv')\n",
    "df12 = pd.read_csv('../Dados/PCA_Features/PCA_cnn_VGG19_256_avg.csv')\n",
    "\n",
    "\n",
    "X1, y1 = separation_features(df1)\n",
    "X2, y2 = separation_features(df2)\n",
    "X3, y3 = separation_features(df3)\n",
    "X4, y4 = separation_features(df4)\n",
    "X5, y5 = separation_features(df5)\n",
    "X6, y6 = separation_features(df6)\n",
    "X7, y7 = separation_features(df7)\n",
    "X8, y8 = separation_features(df8)\n",
    "X9, y9 = separation_features(df9)\n",
    "X10, y10 = separation_features(df10)\n",
    "X11, y11 = separation_features(df11)\n",
    "X12, y12 = separation_features(df12)"
   ]
  },
  {
   "cell_type": "code",
   "execution_count": 3,
   "id": "073ebd7d-7d44-4b36-92a9-12c623e9f915",
   "metadata": {},
   "outputs": [],
   "source": [
    "from sklearn.model_selection import train_test_split\n",
    "\n",
    "X1_train, X1_test, y1_train, y1_test = train_test_split(X1, y1, test_size=0.3,shuffle=True, random_state=1)\n",
    "X2_train, X2_test, y2_train, y2_test = train_test_split(X2, y2, test_size=0.3,shuffle=True, random_state=1)\n",
    "X3_train, X3_test, y3_train, y3_test = train_test_split(X3, y3, test_size=0.3,shuffle=True, random_state=1)\n",
    "X4_train, X4_test, y4_train, y4_test = train_test_split(X4, y4, test_size=0.3,shuffle=True, random_state=1)\n",
    "X5_train, X5_test, y5_train, y5_test = train_test_split(X5, y5, test_size=0.3,shuffle=True, random_state=1)\n",
    "X6_train, X6_test, y6_train, y6_test = train_test_split(X6, y6, test_size=0.3,shuffle=True, random_state=1)\n",
    "X7_train, X7_test, y7_train, y7_test = train_test_split(X7, y7, test_size=0.3,shuffle=True, random_state=1)\n",
    "X8_train, X8_test, y8_train, y8_test = train_test_split(X8, y8, test_size=0.3,shuffle=True, random_state=1)\n",
    "X9_train, X9_test, y9_train, y9_test = train_test_split(X9, y9, test_size=0.3,shuffle=True, random_state=1)\n",
    "X10_train, X10_test, y10_train, y10_test = train_test_split(X10, y10, test_size=0.3,shuffle=True, random_state=1)\n",
    "X11_train, X11_test, y11_train, y11_test = train_test_split(X11, y11, test_size=0.3,shuffle=True, random_state=1)\n",
    "X12_train, X12_test, y12_train, y12_test = train_test_split(X12, y12, test_size=0.3,shuffle=True, random_state=1)\n",
    "\n"
   ]
  },
  {
   "cell_type": "code",
   "execution_count": 40,
   "id": "4664d881-9caf-4380-90d9-5e71e715e7b7",
   "metadata": {},
   "outputs": [],
   "source": [
    "from sklearn.ensemble import BaggingClassifier\n",
    "from sklearn.tree import DecisionTreeClassifier\n",
    "from sklearn.neural_network import MLPClassifier\n",
    "from sklearn.neighbors import KNeighborsClassifier\n",
    "from sklearn.naive_bayes import GaussianNB\n",
    "from sklearn.model_selection import KFold\n",
    "from sklearn.model_selection import cross_val_score\n",
    "from sklearn.model_selection import cross_val_predict\n",
    "from sklearn.metrics import confusion_matrix\n",
    "from sklearn import metrics\n",
    "\n",
    "bgDT10 = BaggingClassifier(estimator=MLPClassifier(), n_estimators=10,\n",
    "                                 max_features=0.8,\n",
    "                                 max_samples=1.0)\n",
    "bgDT20 = BaggingClassifier(estimator=MLPClassifier(), n_estimators=20,\n",
    "                                 max_features=0.8,\n",
    "                                 max_samples=1.0)\n",
    "bgDT30 = BaggingClassifier(estimator=MLPClassifier(), n_estimators=30,\n",
    "                                 max_features=0.8,\n",
    "                                 max_samples=1.0)\n",
    "\n",
    "\n",
    "baggings = [bgDT10, bgDT20, bgDT30]\n",
    "\n",
    "def aplicar_bagging_holdout(X_train, X_test, y_train, y_test, bagging):\n",
    "        bagging.fit(X_train, y_train)\n",
    "        y_pred = bagging.predict(X_test)\n",
    "\n",
    "        acuracia = metrics.accuracy_score(y_test, y_pred)\n",
    "        print(f'Metrica: {bagging}  | Accuracy: %.5f' % acuracia)\n",
    "\n",
    "        print(confusion_matrix(y_test, y_pred))\n",
    "\n",
    "def aplicar_bagging_kfold(X, y, bagging, k_fold=10):\n",
    "    kf = KFold(n_splits=k_fold, random_state=1, shuffle=True)\n",
    "\n",
    "    scores = cross_val_score(bagging, X, y, scoring='accuracy', cv=kf)\n",
    "    print(f'\\nMétrica: {bagging.estimator.__class__.__name__}')\n",
    "    print(f'Accuracy média: %.5f ± %.5f' % (scores.mean(), scores.std()))\n",
    "\n",
    "    y_pred = cross_val_predict(bagging, X, y, cv=kf)\n",
    "    print(confusion_matrix(y, y_pred))\n"
   ]
  },
  {
   "cell_type": "code",
   "execution_count": 41,
   "id": "433a8ce6-d450-4f6d-96ea-9c5424df7191",
   "metadata": {},
   "outputs": [],
   "source": [
    "datasets = [\n",
    "    ('cnn_VGG16_256_max', X1_train, X1_test, y1_train, y1_test),\n",
    "    ('cnn_VGG16_256_avg', X2_train, X2_test, y2_train, y2_test),\n",
    "    ('cnn_VGG19_128_max', X3_train, X3_test, y3_train, y3_test),\n",
    "    ('cnn_VGG19_256_max', X4_train, X4_test, y4_train, y4_test),\n",
    "    ('cnn_VGG19_128_avg', X5_train, X5_test, y5_train, y5_test),\n",
    "    ('cnn_VGG19_256_avg', X6_train, X6_test, y6_train, y6_test),\n",
    "    ('PCA_cnn_VGG16_256_max', X7_train, X7_test, y7_train, y7_test),\n",
    "    ('PCA_cnn_VGG16_256_avg', X8_train, X8_test, y8_train, y8_test),\n",
    "    ('PCA_cnn_VGG19_128_max', X9_train, X9_test, y9_train, y9_test),\n",
    "    ('PCA_cnn_VGG19_256_max', X10_train, X10_test, y10_train, y10_test),\n",
    "    ('PCA_cnn_VGG19_128_avg', X11_train, X11_test, y11_train, y11_test),\n",
    "    ('PCA_cnn_VGG19_256_avg', X12_train, X12_test, y12_train, y12_test),\n",
    "]"
   ]
  },
  {
   "cell_type": "code",
   "execution_count": 42,
   "id": "62a93a3c-9dcc-4347-b7c8-487ab08c18a4",
   "metadata": {
    "scrolled": true
   },
   "outputs": [
    {
     "name": "stdout",
     "output_type": "stream",
     "text": [
      "\n",
      "--------------------- cnn_VGG16_256_max ---------------------\n",
      "Metrica: BaggingClassifier(estimator=MLPClassifier(), max_features=0.8)  | Accuracy: 0.99163\n",
      "[[64  0  0  0]\n",
      " [ 0 57  0  0]\n",
      " [ 0  1 64  0]\n",
      " [ 0  1  0 52]]\n",
      "Metrica: BaggingClassifier(estimator=MLPClassifier(), max_features=0.8, n_estimators=20)  | Accuracy: 0.99582\n",
      "[[64  0  0  0]\n",
      " [ 0 57  0  0]\n",
      " [ 0  0 65  0]\n",
      " [ 0  1  0 52]]\n",
      "Metrica: BaggingClassifier(estimator=MLPClassifier(), max_features=0.8, n_estimators=30)  | Accuracy: 0.99582\n",
      "[[64  0  0  0]\n",
      " [ 0 57  0  0]\n",
      " [ 0  0 65  0]\n",
      " [ 0  1  0 52]]\n",
      "\n",
      "--------------------- cnn_VGG16_256_avg ---------------------\n",
      "Metrica: BaggingClassifier(estimator=MLPClassifier(), max_features=0.8)  | Accuracy: 0.98745\n",
      "[[64  0  0  0]\n",
      " [ 0 56  1  0]\n",
      " [ 0  0 65  0]\n",
      " [ 0  2  0 51]]\n",
      "Metrica: BaggingClassifier(estimator=MLPClassifier(), max_features=0.8, n_estimators=20)  | Accuracy: 0.99163\n",
      "[[64  0  0  0]\n",
      " [ 0 56  1  0]\n",
      " [ 0  0 65  0]\n",
      " [ 0  1  0 52]]\n",
      "Metrica: BaggingClassifier(estimator=MLPClassifier(), max_features=0.8, n_estimators=30)  | Accuracy: 0.99163\n",
      "[[64  0  0  0]\n",
      " [ 0 57  0  0]\n",
      " [ 0  0 65  0]\n",
      " [ 0  2  0 51]]\n",
      "\n",
      "--------------------- cnn_VGG19_128_max ---------------------\n",
      "Metrica: BaggingClassifier(estimator=MLPClassifier(), max_features=0.8)  | Accuracy: 0.94561\n",
      "[[64  0  0  0]\n",
      " [ 0 54  1  2]\n",
      " [ 1  1 62  1]\n",
      " [ 1  5  1 46]]\n",
      "Metrica: BaggingClassifier(estimator=MLPClassifier(), max_features=0.8, n_estimators=20)  | Accuracy: 0.95816\n",
      "[[63  0  1  0]\n",
      " [ 0 55  1  1]\n",
      " [ 0  1 63  1]\n",
      " [ 1  4  0 48]]\n",
      "Metrica: BaggingClassifier(estimator=MLPClassifier(), max_features=0.8, n_estimators=30)  | Accuracy: 0.95397\n",
      "[[63  0  1  0]\n",
      " [ 0 56  0  1]\n",
      " [ 0  3 61  1]\n",
      " [ 1  4  0 48]]\n",
      "\n",
      "--------------------- cnn_VGG19_256_max ---------------------\n",
      "Metrica: BaggingClassifier(estimator=MLPClassifier(), max_features=0.8)  | Accuracy: 0.98745\n",
      "[[63  0  0  1]\n",
      " [ 0 56  0  1]\n",
      " [ 0  0 65  0]\n",
      " [ 0  1  0 52]]\n",
      "Metrica: BaggingClassifier(estimator=MLPClassifier(), max_features=0.8, n_estimators=20)  | Accuracy: 0.99163\n",
      "[[64  0  0  0]\n",
      " [ 0 56  0  1]\n",
      " [ 0  0 65  0]\n",
      " [ 0  1  0 52]]\n",
      "Metrica: BaggingClassifier(estimator=MLPClassifier(), max_features=0.8, n_estimators=30)  | Accuracy: 0.98745\n",
      "[[64  0  0  0]\n",
      " [ 0 55  1  1]\n",
      " [ 0  0 65  0]\n",
      " [ 0  1  0 52]]\n",
      "\n",
      "--------------------- cnn_VGG19_128_avg ---------------------\n",
      "Metrica: BaggingClassifier(estimator=MLPClassifier(), max_features=0.8)  | Accuracy: 0.96653\n",
      "[[63  0  1  0]\n",
      " [ 1 56  0  0]\n",
      " [ 0  1 64  0]\n",
      " [ 1  4  0 48]]\n",
      "Metrica: BaggingClassifier(estimator=MLPClassifier(), max_features=0.8, n_estimators=20)  | Accuracy: 0.97071\n",
      "[[64  0  0  0]\n",
      " [ 0 56  0  1]\n",
      " [ 0  2 63  0]\n",
      " [ 0  3  1 49]]\n",
      "Metrica: BaggingClassifier(estimator=MLPClassifier(), max_features=0.8, n_estimators=30)  | Accuracy: 0.95397\n",
      "[[62  0  1  1]\n",
      " [ 1 54  0  2]\n",
      " [ 0  1 64  0]\n",
      " [ 1  3  1 48]]\n",
      "\n",
      "--------------------- cnn_VGG19_256_avg ---------------------\n",
      "Metrica: BaggingClassifier(estimator=MLPClassifier(), max_features=0.8)  | Accuracy: 0.97908\n",
      "[[64  0  0  0]\n",
      " [ 0 55  1  1]\n",
      " [ 0  1 64  0]\n",
      " [ 0  2  0 51]]\n",
      "Metrica: BaggingClassifier(estimator=MLPClassifier(), max_features=0.8, n_estimators=20)  | Accuracy: 0.98745\n",
      "[[64  0  0  0]\n",
      " [ 0 56  0  1]\n",
      " [ 0  0 65  0]\n",
      " [ 0  2  0 51]]\n",
      "Metrica: BaggingClassifier(estimator=MLPClassifier(), max_features=0.8, n_estimators=30)  | Accuracy: 0.99582\n",
      "[[64  0  0  0]\n",
      " [ 0 57  0  0]\n",
      " [ 0  0 65  0]\n",
      " [ 0  1  0 52]]\n",
      "\n",
      "--------------------- PCA_cnn_VGG16_256_max ---------------------\n"
     ]
    },
    {
     "name": "stderr",
     "output_type": "stream",
     "text": [
      "C:\\Users\\lf060\\AppData\\Local\\Programs\\Python\\Python310\\lib\\site-packages\\sklearn\\neural_network\\_multilayer_perceptron.py:691: ConvergenceWarning: Stochastic Optimizer: Maximum iterations (200) reached and the optimization hasn't converged yet.\n",
      "  warnings.warn(\n",
      "C:\\Users\\lf060\\AppData\\Local\\Programs\\Python\\Python310\\lib\\site-packages\\sklearn\\neural_network\\_multilayer_perceptron.py:691: ConvergenceWarning: Stochastic Optimizer: Maximum iterations (200) reached and the optimization hasn't converged yet.\n",
      "  warnings.warn(\n"
     ]
    },
    {
     "name": "stdout",
     "output_type": "stream",
     "text": [
      "Metrica: BaggingClassifier(estimator=MLPClassifier(), max_features=0.8)  | Accuracy: 0.98745\n",
      "[[64  0  0  0]\n",
      " [ 0 57  0  0]\n",
      " [ 0  1 64  0]\n",
      " [ 0  2  0 51]]\n",
      "Metrica: BaggingClassifier(estimator=MLPClassifier(), max_features=0.8, n_estimators=20)  | Accuracy: 0.99582\n",
      "[[64  0  0  0]\n",
      " [ 0 57  0  0]\n",
      " [ 0  0 65  0]\n",
      " [ 0  1  0 52]]\n"
     ]
    },
    {
     "name": "stderr",
     "output_type": "stream",
     "text": [
      "C:\\Users\\lf060\\AppData\\Local\\Programs\\Python\\Python310\\lib\\site-packages\\sklearn\\neural_network\\_multilayer_perceptron.py:691: ConvergenceWarning: Stochastic Optimizer: Maximum iterations (200) reached and the optimization hasn't converged yet.\n",
      "  warnings.warn(\n",
      "C:\\Users\\lf060\\AppData\\Local\\Programs\\Python\\Python310\\lib\\site-packages\\sklearn\\neural_network\\_multilayer_perceptron.py:691: ConvergenceWarning: Stochastic Optimizer: Maximum iterations (200) reached and the optimization hasn't converged yet.\n",
      "  warnings.warn(\n",
      "C:\\Users\\lf060\\AppData\\Local\\Programs\\Python\\Python310\\lib\\site-packages\\sklearn\\neural_network\\_multilayer_perceptron.py:691: ConvergenceWarning: Stochastic Optimizer: Maximum iterations (200) reached and the optimization hasn't converged yet.\n",
      "  warnings.warn(\n"
     ]
    },
    {
     "name": "stdout",
     "output_type": "stream",
     "text": [
      "Metrica: BaggingClassifier(estimator=MLPClassifier(), max_features=0.8, n_estimators=30)  | Accuracy: 0.99163\n",
      "[[63  0  1  0]\n",
      " [ 0 57  0  0]\n",
      " [ 0  0 65  0]\n",
      " [ 0  1  0 52]]\n",
      "\n",
      "--------------------- PCA_cnn_VGG16_256_avg ---------------------\n",
      "Metrica: BaggingClassifier(estimator=MLPClassifier(), max_features=0.8)  | Accuracy: 0.98326\n",
      "[[64  0  0  0]\n",
      " [ 0 55  1  1]\n",
      " [ 0  0 65  0]\n",
      " [ 0  2  0 51]]\n"
     ]
    },
    {
     "name": "stderr",
     "output_type": "stream",
     "text": [
      "C:\\Users\\lf060\\AppData\\Local\\Programs\\Python\\Python310\\lib\\site-packages\\sklearn\\neural_network\\_multilayer_perceptron.py:691: ConvergenceWarning: Stochastic Optimizer: Maximum iterations (200) reached and the optimization hasn't converged yet.\n",
      "  warnings.warn(\n",
      "C:\\Users\\lf060\\AppData\\Local\\Programs\\Python\\Python310\\lib\\site-packages\\sklearn\\neural_network\\_multilayer_perceptron.py:691: ConvergenceWarning: Stochastic Optimizer: Maximum iterations (200) reached and the optimization hasn't converged yet.\n",
      "  warnings.warn(\n",
      "C:\\Users\\lf060\\AppData\\Local\\Programs\\Python\\Python310\\lib\\site-packages\\sklearn\\neural_network\\_multilayer_perceptron.py:691: ConvergenceWarning: Stochastic Optimizer: Maximum iterations (200) reached and the optimization hasn't converged yet.\n",
      "  warnings.warn(\n",
      "C:\\Users\\lf060\\AppData\\Local\\Programs\\Python\\Python310\\lib\\site-packages\\sklearn\\neural_network\\_multilayer_perceptron.py:691: ConvergenceWarning: Stochastic Optimizer: Maximum iterations (200) reached and the optimization hasn't converged yet.\n",
      "  warnings.warn(\n",
      "C:\\Users\\lf060\\AppData\\Local\\Programs\\Python\\Python310\\lib\\site-packages\\sklearn\\neural_network\\_multilayer_perceptron.py:691: ConvergenceWarning: Stochastic Optimizer: Maximum iterations (200) reached and the optimization hasn't converged yet.\n",
      "  warnings.warn(\n",
      "C:\\Users\\lf060\\AppData\\Local\\Programs\\Python\\Python310\\lib\\site-packages\\sklearn\\neural_network\\_multilayer_perceptron.py:691: ConvergenceWarning: Stochastic Optimizer: Maximum iterations (200) reached and the optimization hasn't converged yet.\n",
      "  warnings.warn(\n",
      "C:\\Users\\lf060\\AppData\\Local\\Programs\\Python\\Python310\\lib\\site-packages\\sklearn\\neural_network\\_multilayer_perceptron.py:691: ConvergenceWarning: Stochastic Optimizer: Maximum iterations (200) reached and the optimization hasn't converged yet.\n",
      "  warnings.warn(\n"
     ]
    },
    {
     "name": "stdout",
     "output_type": "stream",
     "text": [
      "Metrica: BaggingClassifier(estimator=MLPClassifier(), max_features=0.8, n_estimators=20)  | Accuracy: 0.99163\n",
      "[[64  0  0  0]\n",
      " [ 0 57  0  0]\n",
      " [ 0  0 65  0]\n",
      " [ 0  2  0 51]]\n"
     ]
    },
    {
     "name": "stderr",
     "output_type": "stream",
     "text": [
      "C:\\Users\\lf060\\AppData\\Local\\Programs\\Python\\Python310\\lib\\site-packages\\sklearn\\neural_network\\_multilayer_perceptron.py:691: ConvergenceWarning: Stochastic Optimizer: Maximum iterations (200) reached and the optimization hasn't converged yet.\n",
      "  warnings.warn(\n",
      "C:\\Users\\lf060\\AppData\\Local\\Programs\\Python\\Python310\\lib\\site-packages\\sklearn\\neural_network\\_multilayer_perceptron.py:691: ConvergenceWarning: Stochastic Optimizer: Maximum iterations (200) reached and the optimization hasn't converged yet.\n",
      "  warnings.warn(\n",
      "C:\\Users\\lf060\\AppData\\Local\\Programs\\Python\\Python310\\lib\\site-packages\\sklearn\\neural_network\\_multilayer_perceptron.py:691: ConvergenceWarning: Stochastic Optimizer: Maximum iterations (200) reached and the optimization hasn't converged yet.\n",
      "  warnings.warn(\n",
      "C:\\Users\\lf060\\AppData\\Local\\Programs\\Python\\Python310\\lib\\site-packages\\sklearn\\neural_network\\_multilayer_perceptron.py:691: ConvergenceWarning: Stochastic Optimizer: Maximum iterations (200) reached and the optimization hasn't converged yet.\n",
      "  warnings.warn(\n",
      "C:\\Users\\lf060\\AppData\\Local\\Programs\\Python\\Python310\\lib\\site-packages\\sklearn\\neural_network\\_multilayer_perceptron.py:691: ConvergenceWarning: Stochastic Optimizer: Maximum iterations (200) reached and the optimization hasn't converged yet.\n",
      "  warnings.warn(\n",
      "C:\\Users\\lf060\\AppData\\Local\\Programs\\Python\\Python310\\lib\\site-packages\\sklearn\\neural_network\\_multilayer_perceptron.py:691: ConvergenceWarning: Stochastic Optimizer: Maximum iterations (200) reached and the optimization hasn't converged yet.\n",
      "  warnings.warn(\n",
      "C:\\Users\\lf060\\AppData\\Local\\Programs\\Python\\Python310\\lib\\site-packages\\sklearn\\neural_network\\_multilayer_perceptron.py:691: ConvergenceWarning: Stochastic Optimizer: Maximum iterations (200) reached and the optimization hasn't converged yet.\n",
      "  warnings.warn(\n",
      "C:\\Users\\lf060\\AppData\\Local\\Programs\\Python\\Python310\\lib\\site-packages\\sklearn\\neural_network\\_multilayer_perceptron.py:691: ConvergenceWarning: Stochastic Optimizer: Maximum iterations (200) reached and the optimization hasn't converged yet.\n",
      "  warnings.warn(\n",
      "C:\\Users\\lf060\\AppData\\Local\\Programs\\Python\\Python310\\lib\\site-packages\\sklearn\\neural_network\\_multilayer_perceptron.py:691: ConvergenceWarning: Stochastic Optimizer: Maximum iterations (200) reached and the optimization hasn't converged yet.\n",
      "  warnings.warn(\n"
     ]
    },
    {
     "name": "stdout",
     "output_type": "stream",
     "text": [
      "Metrica: BaggingClassifier(estimator=MLPClassifier(), max_features=0.8, n_estimators=30)  | Accuracy: 1.00000\n",
      "[[64  0  0  0]\n",
      " [ 0 57  0  0]\n",
      " [ 0  0 65  0]\n",
      " [ 0  0  0 53]]\n",
      "\n",
      "--------------------- PCA_cnn_VGG19_128_max ---------------------\n",
      "Metrica: BaggingClassifier(estimator=MLPClassifier(), max_features=0.8)  | Accuracy: 0.93305\n",
      "[[63  0  1  0]\n",
      " [ 0 52  0  5]\n",
      " [ 0  3 61  1]\n",
      " [ 0  5  1 47]]\n"
     ]
    },
    {
     "name": "stderr",
     "output_type": "stream",
     "text": [
      "C:\\Users\\lf060\\AppData\\Local\\Programs\\Python\\Python310\\lib\\site-packages\\sklearn\\neural_network\\_multilayer_perceptron.py:691: ConvergenceWarning: Stochastic Optimizer: Maximum iterations (200) reached and the optimization hasn't converged yet.\n",
      "  warnings.warn(\n",
      "C:\\Users\\lf060\\AppData\\Local\\Programs\\Python\\Python310\\lib\\site-packages\\sklearn\\neural_network\\_multilayer_perceptron.py:691: ConvergenceWarning: Stochastic Optimizer: Maximum iterations (200) reached and the optimization hasn't converged yet.\n",
      "  warnings.warn(\n",
      "C:\\Users\\lf060\\AppData\\Local\\Programs\\Python\\Python310\\lib\\site-packages\\sklearn\\neural_network\\_multilayer_perceptron.py:691: ConvergenceWarning: Stochastic Optimizer: Maximum iterations (200) reached and the optimization hasn't converged yet.\n",
      "  warnings.warn(\n"
     ]
    },
    {
     "name": "stdout",
     "output_type": "stream",
     "text": [
      "Metrica: BaggingClassifier(estimator=MLPClassifier(), max_features=0.8, n_estimators=20)  | Accuracy: 0.94979\n",
      "[[63  0  1  0]\n",
      " [ 0 53  1  3]\n",
      " [ 0  1 64  0]\n",
      " [ 0  4  2 47]]\n"
     ]
    },
    {
     "name": "stderr",
     "output_type": "stream",
     "text": [
      "C:\\Users\\lf060\\AppData\\Local\\Programs\\Python\\Python310\\lib\\site-packages\\sklearn\\neural_network\\_multilayer_perceptron.py:691: ConvergenceWarning: Stochastic Optimizer: Maximum iterations (200) reached and the optimization hasn't converged yet.\n",
      "  warnings.warn(\n",
      "C:\\Users\\lf060\\AppData\\Local\\Programs\\Python\\Python310\\lib\\site-packages\\sklearn\\neural_network\\_multilayer_perceptron.py:691: ConvergenceWarning: Stochastic Optimizer: Maximum iterations (200) reached and the optimization hasn't converged yet.\n",
      "  warnings.warn(\n"
     ]
    },
    {
     "name": "stdout",
     "output_type": "stream",
     "text": [
      "Metrica: BaggingClassifier(estimator=MLPClassifier(), max_features=0.8, n_estimators=30)  | Accuracy: 0.92469\n",
      "[[63  0  1  0]\n",
      " [ 0 51  3  3]\n",
      " [ 0  2 62  1]\n",
      " [ 0  4  4 45]]\n",
      "\n",
      "--------------------- PCA_cnn_VGG19_256_max ---------------------\n",
      "Metrica: BaggingClassifier(estimator=MLPClassifier(), max_features=0.8)  | Accuracy: 0.98326\n",
      "[[64  0  0  0]\n",
      " [ 0 55  1  1]\n",
      " [ 0  0 65  0]\n",
      " [ 0  2  0 51]]\n"
     ]
    },
    {
     "name": "stderr",
     "output_type": "stream",
     "text": [
      "C:\\Users\\lf060\\AppData\\Local\\Programs\\Python\\Python310\\lib\\site-packages\\sklearn\\neural_network\\_multilayer_perceptron.py:691: ConvergenceWarning: Stochastic Optimizer: Maximum iterations (200) reached and the optimization hasn't converged yet.\n",
      "  warnings.warn(\n"
     ]
    },
    {
     "name": "stdout",
     "output_type": "stream",
     "text": [
      "Metrica: BaggingClassifier(estimator=MLPClassifier(), max_features=0.8, n_estimators=20)  | Accuracy: 0.99163\n",
      "[[64  0  0  0]\n",
      " [ 0 56  0  1]\n",
      " [ 0  0 65  0]\n",
      " [ 0  1  0 52]]\n"
     ]
    },
    {
     "name": "stderr",
     "output_type": "stream",
     "text": [
      "C:\\Users\\lf060\\AppData\\Local\\Programs\\Python\\Python310\\lib\\site-packages\\sklearn\\neural_network\\_multilayer_perceptron.py:691: ConvergenceWarning: Stochastic Optimizer: Maximum iterations (200) reached and the optimization hasn't converged yet.\n",
      "  warnings.warn(\n",
      "C:\\Users\\lf060\\AppData\\Local\\Programs\\Python\\Python310\\lib\\site-packages\\sklearn\\neural_network\\_multilayer_perceptron.py:691: ConvergenceWarning: Stochastic Optimizer: Maximum iterations (200) reached and the optimization hasn't converged yet.\n",
      "  warnings.warn(\n"
     ]
    },
    {
     "name": "stdout",
     "output_type": "stream",
     "text": [
      "Metrica: BaggingClassifier(estimator=MLPClassifier(), max_features=0.8, n_estimators=30)  | Accuracy: 0.99163\n",
      "[[64  0  0  0]\n",
      " [ 0 56  0  1]\n",
      " [ 0  0 65  0]\n",
      " [ 0  1  0 52]]\n",
      "\n",
      "--------------------- PCA_cnn_VGG19_128_avg ---------------------\n"
     ]
    },
    {
     "name": "stderr",
     "output_type": "stream",
     "text": [
      "C:\\Users\\lf060\\AppData\\Local\\Programs\\Python\\Python310\\lib\\site-packages\\sklearn\\neural_network\\_multilayer_perceptron.py:691: ConvergenceWarning: Stochastic Optimizer: Maximum iterations (200) reached and the optimization hasn't converged yet.\n",
      "  warnings.warn(\n",
      "C:\\Users\\lf060\\AppData\\Local\\Programs\\Python\\Python310\\lib\\site-packages\\sklearn\\neural_network\\_multilayer_perceptron.py:691: ConvergenceWarning: Stochastic Optimizer: Maximum iterations (200) reached and the optimization hasn't converged yet.\n",
      "  warnings.warn(\n",
      "C:\\Users\\lf060\\AppData\\Local\\Programs\\Python\\Python310\\lib\\site-packages\\sklearn\\neural_network\\_multilayer_perceptron.py:691: ConvergenceWarning: Stochastic Optimizer: Maximum iterations (200) reached and the optimization hasn't converged yet.\n",
      "  warnings.warn(\n",
      "C:\\Users\\lf060\\AppData\\Local\\Programs\\Python\\Python310\\lib\\site-packages\\sklearn\\neural_network\\_multilayer_perceptron.py:691: ConvergenceWarning: Stochastic Optimizer: Maximum iterations (200) reached and the optimization hasn't converged yet.\n",
      "  warnings.warn(\n",
      "C:\\Users\\lf060\\AppData\\Local\\Programs\\Python\\Python310\\lib\\site-packages\\sklearn\\neural_network\\_multilayer_perceptron.py:691: ConvergenceWarning: Stochastic Optimizer: Maximum iterations (200) reached and the optimization hasn't converged yet.\n",
      "  warnings.warn(\n",
      "C:\\Users\\lf060\\AppData\\Local\\Programs\\Python\\Python310\\lib\\site-packages\\sklearn\\neural_network\\_multilayer_perceptron.py:691: ConvergenceWarning: Stochastic Optimizer: Maximum iterations (200) reached and the optimization hasn't converged yet.\n",
      "  warnings.warn(\n",
      "C:\\Users\\lf060\\AppData\\Local\\Programs\\Python\\Python310\\lib\\site-packages\\sklearn\\neural_network\\_multilayer_perceptron.py:691: ConvergenceWarning: Stochastic Optimizer: Maximum iterations (200) reached and the optimization hasn't converged yet.\n",
      "  warnings.warn(\n",
      "C:\\Users\\lf060\\AppData\\Local\\Programs\\Python\\Python310\\lib\\site-packages\\sklearn\\neural_network\\_multilayer_perceptron.py:691: ConvergenceWarning: Stochastic Optimizer: Maximum iterations (200) reached and the optimization hasn't converged yet.\n",
      "  warnings.warn(\n"
     ]
    },
    {
     "name": "stdout",
     "output_type": "stream",
     "text": [
      "Metrica: BaggingClassifier(estimator=MLPClassifier(), max_features=0.8)  | Accuracy: 0.94561\n",
      "[[63  0  1  0]\n",
      " [ 0 53  2  2]\n",
      " [ 0  0 65  0]\n",
      " [ 0  5  3 45]]\n"
     ]
    },
    {
     "name": "stderr",
     "output_type": "stream",
     "text": [
      "C:\\Users\\lf060\\AppData\\Local\\Programs\\Python\\Python310\\lib\\site-packages\\sklearn\\neural_network\\_multilayer_perceptron.py:691: ConvergenceWarning: Stochastic Optimizer: Maximum iterations (200) reached and the optimization hasn't converged yet.\n",
      "  warnings.warn(\n",
      "C:\\Users\\lf060\\AppData\\Local\\Programs\\Python\\Python310\\lib\\site-packages\\sklearn\\neural_network\\_multilayer_perceptron.py:691: ConvergenceWarning: Stochastic Optimizer: Maximum iterations (200) reached and the optimization hasn't converged yet.\n",
      "  warnings.warn(\n",
      "C:\\Users\\lf060\\AppData\\Local\\Programs\\Python\\Python310\\lib\\site-packages\\sklearn\\neural_network\\_multilayer_perceptron.py:691: ConvergenceWarning: Stochastic Optimizer: Maximum iterations (200) reached and the optimization hasn't converged yet.\n",
      "  warnings.warn(\n",
      "C:\\Users\\lf060\\AppData\\Local\\Programs\\Python\\Python310\\lib\\site-packages\\sklearn\\neural_network\\_multilayer_perceptron.py:691: ConvergenceWarning: Stochastic Optimizer: Maximum iterations (200) reached and the optimization hasn't converged yet.\n",
      "  warnings.warn(\n",
      "C:\\Users\\lf060\\AppData\\Local\\Programs\\Python\\Python310\\lib\\site-packages\\sklearn\\neural_network\\_multilayer_perceptron.py:691: ConvergenceWarning: Stochastic Optimizer: Maximum iterations (200) reached and the optimization hasn't converged yet.\n",
      "  warnings.warn(\n",
      "C:\\Users\\lf060\\AppData\\Local\\Programs\\Python\\Python310\\lib\\site-packages\\sklearn\\neural_network\\_multilayer_perceptron.py:691: ConvergenceWarning: Stochastic Optimizer: Maximum iterations (200) reached and the optimization hasn't converged yet.\n",
      "  warnings.warn(\n",
      "C:\\Users\\lf060\\AppData\\Local\\Programs\\Python\\Python310\\lib\\site-packages\\sklearn\\neural_network\\_multilayer_perceptron.py:691: ConvergenceWarning: Stochastic Optimizer: Maximum iterations (200) reached and the optimization hasn't converged yet.\n",
      "  warnings.warn(\n",
      "C:\\Users\\lf060\\AppData\\Local\\Programs\\Python\\Python310\\lib\\site-packages\\sklearn\\neural_network\\_multilayer_perceptron.py:691: ConvergenceWarning: Stochastic Optimizer: Maximum iterations (200) reached and the optimization hasn't converged yet.\n",
      "  warnings.warn(\n"
     ]
    },
    {
     "name": "stdout",
     "output_type": "stream",
     "text": [
      "Metrica: BaggingClassifier(estimator=MLPClassifier(), max_features=0.8, n_estimators=20)  | Accuracy: 0.95397\n",
      "[[63  0  1  0]\n",
      " [ 1 52  0  4]\n",
      " [ 0  0 65  0]\n",
      " [ 0  5  0 48]]\n"
     ]
    },
    {
     "name": "stderr",
     "output_type": "stream",
     "text": [
      "C:\\Users\\lf060\\AppData\\Local\\Programs\\Python\\Python310\\lib\\site-packages\\sklearn\\neural_network\\_multilayer_perceptron.py:691: ConvergenceWarning: Stochastic Optimizer: Maximum iterations (200) reached and the optimization hasn't converged yet.\n",
      "  warnings.warn(\n",
      "C:\\Users\\lf060\\AppData\\Local\\Programs\\Python\\Python310\\lib\\site-packages\\sklearn\\neural_network\\_multilayer_perceptron.py:691: ConvergenceWarning: Stochastic Optimizer: Maximum iterations (200) reached and the optimization hasn't converged yet.\n",
      "  warnings.warn(\n",
      "C:\\Users\\lf060\\AppData\\Local\\Programs\\Python\\Python310\\lib\\site-packages\\sklearn\\neural_network\\_multilayer_perceptron.py:691: ConvergenceWarning: Stochastic Optimizer: Maximum iterations (200) reached and the optimization hasn't converged yet.\n",
      "  warnings.warn(\n",
      "C:\\Users\\lf060\\AppData\\Local\\Programs\\Python\\Python310\\lib\\site-packages\\sklearn\\neural_network\\_multilayer_perceptron.py:691: ConvergenceWarning: Stochastic Optimizer: Maximum iterations (200) reached and the optimization hasn't converged yet.\n",
      "  warnings.warn(\n",
      "C:\\Users\\lf060\\AppData\\Local\\Programs\\Python\\Python310\\lib\\site-packages\\sklearn\\neural_network\\_multilayer_perceptron.py:691: ConvergenceWarning: Stochastic Optimizer: Maximum iterations (200) reached and the optimization hasn't converged yet.\n",
      "  warnings.warn(\n",
      "C:\\Users\\lf060\\AppData\\Local\\Programs\\Python\\Python310\\lib\\site-packages\\sklearn\\neural_network\\_multilayer_perceptron.py:691: ConvergenceWarning: Stochastic Optimizer: Maximum iterations (200) reached and the optimization hasn't converged yet.\n",
      "  warnings.warn(\n",
      "C:\\Users\\lf060\\AppData\\Local\\Programs\\Python\\Python310\\lib\\site-packages\\sklearn\\neural_network\\_multilayer_perceptron.py:691: ConvergenceWarning: Stochastic Optimizer: Maximum iterations (200) reached and the optimization hasn't converged yet.\n",
      "  warnings.warn(\n",
      "C:\\Users\\lf060\\AppData\\Local\\Programs\\Python\\Python310\\lib\\site-packages\\sklearn\\neural_network\\_multilayer_perceptron.py:691: ConvergenceWarning: Stochastic Optimizer: Maximum iterations (200) reached and the optimization hasn't converged yet.\n",
      "  warnings.warn(\n",
      "C:\\Users\\lf060\\AppData\\Local\\Programs\\Python\\Python310\\lib\\site-packages\\sklearn\\neural_network\\_multilayer_perceptron.py:691: ConvergenceWarning: Stochastic Optimizer: Maximum iterations (200) reached and the optimization hasn't converged yet.\n",
      "  warnings.warn(\n",
      "C:\\Users\\lf060\\AppData\\Local\\Programs\\Python\\Python310\\lib\\site-packages\\sklearn\\neural_network\\_multilayer_perceptron.py:691: ConvergenceWarning: Stochastic Optimizer: Maximum iterations (200) reached and the optimization hasn't converged yet.\n",
      "  warnings.warn(\n",
      "C:\\Users\\lf060\\AppData\\Local\\Programs\\Python\\Python310\\lib\\site-packages\\sklearn\\neural_network\\_multilayer_perceptron.py:691: ConvergenceWarning: Stochastic Optimizer: Maximum iterations (200) reached and the optimization hasn't converged yet.\n",
      "  warnings.warn(\n",
      "C:\\Users\\lf060\\AppData\\Local\\Programs\\Python\\Python310\\lib\\site-packages\\sklearn\\neural_network\\_multilayer_perceptron.py:691: ConvergenceWarning: Stochastic Optimizer: Maximum iterations (200) reached and the optimization hasn't converged yet.\n",
      "  warnings.warn(\n",
      "C:\\Users\\lf060\\AppData\\Local\\Programs\\Python\\Python310\\lib\\site-packages\\sklearn\\neural_network\\_multilayer_perceptron.py:691: ConvergenceWarning: Stochastic Optimizer: Maximum iterations (200) reached and the optimization hasn't converged yet.\n",
      "  warnings.warn(\n",
      "C:\\Users\\lf060\\AppData\\Local\\Programs\\Python\\Python310\\lib\\site-packages\\sklearn\\neural_network\\_multilayer_perceptron.py:691: ConvergenceWarning: Stochastic Optimizer: Maximum iterations (200) reached and the optimization hasn't converged yet.\n",
      "  warnings.warn(\n"
     ]
    },
    {
     "name": "stdout",
     "output_type": "stream",
     "text": [
      "Metrica: BaggingClassifier(estimator=MLPClassifier(), max_features=0.8, n_estimators=30)  | Accuracy: 0.95397\n",
      "[[63  0  1  0]\n",
      " [ 0 54  1  2]\n",
      " [ 0  1 64  0]\n",
      " [ 0  5  1 47]]\n",
      "\n",
      "--------------------- PCA_cnn_VGG19_256_avg ---------------------\n"
     ]
    },
    {
     "name": "stderr",
     "output_type": "stream",
     "text": [
      "C:\\Users\\lf060\\AppData\\Local\\Programs\\Python\\Python310\\lib\\site-packages\\sklearn\\neural_network\\_multilayer_perceptron.py:691: ConvergenceWarning: Stochastic Optimizer: Maximum iterations (200) reached and the optimization hasn't converged yet.\n",
      "  warnings.warn(\n",
      "C:\\Users\\lf060\\AppData\\Local\\Programs\\Python\\Python310\\lib\\site-packages\\sklearn\\neural_network\\_multilayer_perceptron.py:691: ConvergenceWarning: Stochastic Optimizer: Maximum iterations (200) reached and the optimization hasn't converged yet.\n",
      "  warnings.warn(\n",
      "C:\\Users\\lf060\\AppData\\Local\\Programs\\Python\\Python310\\lib\\site-packages\\sklearn\\neural_network\\_multilayer_perceptron.py:691: ConvergenceWarning: Stochastic Optimizer: Maximum iterations (200) reached and the optimization hasn't converged yet.\n",
      "  warnings.warn(\n",
      "C:\\Users\\lf060\\AppData\\Local\\Programs\\Python\\Python310\\lib\\site-packages\\sklearn\\neural_network\\_multilayer_perceptron.py:691: ConvergenceWarning: Stochastic Optimizer: Maximum iterations (200) reached and the optimization hasn't converged yet.\n",
      "  warnings.warn(\n",
      "C:\\Users\\lf060\\AppData\\Local\\Programs\\Python\\Python310\\lib\\site-packages\\sklearn\\neural_network\\_multilayer_perceptron.py:691: ConvergenceWarning: Stochastic Optimizer: Maximum iterations (200) reached and the optimization hasn't converged yet.\n",
      "  warnings.warn(\n",
      "C:\\Users\\lf060\\AppData\\Local\\Programs\\Python\\Python310\\lib\\site-packages\\sklearn\\neural_network\\_multilayer_perceptron.py:691: ConvergenceWarning: Stochastic Optimizer: Maximum iterations (200) reached and the optimization hasn't converged yet.\n",
      "  warnings.warn(\n"
     ]
    },
    {
     "name": "stdout",
     "output_type": "stream",
     "text": [
      "Metrica: BaggingClassifier(estimator=MLPClassifier(), max_features=0.8)  | Accuracy: 0.98326\n",
      "[[63  0  1  0]\n",
      " [ 0 55  0  2]\n",
      " [ 0  0 65  0]\n",
      " [ 0  1  0 52]]\n"
     ]
    },
    {
     "name": "stderr",
     "output_type": "stream",
     "text": [
      "C:\\Users\\lf060\\AppData\\Local\\Programs\\Python\\Python310\\lib\\site-packages\\sklearn\\neural_network\\_multilayer_perceptron.py:691: ConvergenceWarning: Stochastic Optimizer: Maximum iterations (200) reached and the optimization hasn't converged yet.\n",
      "  warnings.warn(\n",
      "C:\\Users\\lf060\\AppData\\Local\\Programs\\Python\\Python310\\lib\\site-packages\\sklearn\\neural_network\\_multilayer_perceptron.py:691: ConvergenceWarning: Stochastic Optimizer: Maximum iterations (200) reached and the optimization hasn't converged yet.\n",
      "  warnings.warn(\n",
      "C:\\Users\\lf060\\AppData\\Local\\Programs\\Python\\Python310\\lib\\site-packages\\sklearn\\neural_network\\_multilayer_perceptron.py:691: ConvergenceWarning: Stochastic Optimizer: Maximum iterations (200) reached and the optimization hasn't converged yet.\n",
      "  warnings.warn(\n",
      "C:\\Users\\lf060\\AppData\\Local\\Programs\\Python\\Python310\\lib\\site-packages\\sklearn\\neural_network\\_multilayer_perceptron.py:691: ConvergenceWarning: Stochastic Optimizer: Maximum iterations (200) reached and the optimization hasn't converged yet.\n",
      "  warnings.warn(\n",
      "C:\\Users\\lf060\\AppData\\Local\\Programs\\Python\\Python310\\lib\\site-packages\\sklearn\\neural_network\\_multilayer_perceptron.py:691: ConvergenceWarning: Stochastic Optimizer: Maximum iterations (200) reached and the optimization hasn't converged yet.\n",
      "  warnings.warn(\n",
      "C:\\Users\\lf060\\AppData\\Local\\Programs\\Python\\Python310\\lib\\site-packages\\sklearn\\neural_network\\_multilayer_perceptron.py:691: ConvergenceWarning: Stochastic Optimizer: Maximum iterations (200) reached and the optimization hasn't converged yet.\n",
      "  warnings.warn(\n"
     ]
    },
    {
     "name": "stdout",
     "output_type": "stream",
     "text": [
      "Metrica: BaggingClassifier(estimator=MLPClassifier(), max_features=0.8, n_estimators=20)  | Accuracy: 0.97908\n",
      "[[63  0  1  0]\n",
      " [ 0 55  0  2]\n",
      " [ 0  0 65  0]\n",
      " [ 0  2  0 51]]\n"
     ]
    },
    {
     "name": "stderr",
     "output_type": "stream",
     "text": [
      "C:\\Users\\lf060\\AppData\\Local\\Programs\\Python\\Python310\\lib\\site-packages\\sklearn\\neural_network\\_multilayer_perceptron.py:691: ConvergenceWarning: Stochastic Optimizer: Maximum iterations (200) reached and the optimization hasn't converged yet.\n",
      "  warnings.warn(\n",
      "C:\\Users\\lf060\\AppData\\Local\\Programs\\Python\\Python310\\lib\\site-packages\\sklearn\\neural_network\\_multilayer_perceptron.py:691: ConvergenceWarning: Stochastic Optimizer: Maximum iterations (200) reached and the optimization hasn't converged yet.\n",
      "  warnings.warn(\n",
      "C:\\Users\\lf060\\AppData\\Local\\Programs\\Python\\Python310\\lib\\site-packages\\sklearn\\neural_network\\_multilayer_perceptron.py:691: ConvergenceWarning: Stochastic Optimizer: Maximum iterations (200) reached and the optimization hasn't converged yet.\n",
      "  warnings.warn(\n",
      "C:\\Users\\lf060\\AppData\\Local\\Programs\\Python\\Python310\\lib\\site-packages\\sklearn\\neural_network\\_multilayer_perceptron.py:691: ConvergenceWarning: Stochastic Optimizer: Maximum iterations (200) reached and the optimization hasn't converged yet.\n",
      "  warnings.warn(\n",
      "C:\\Users\\lf060\\AppData\\Local\\Programs\\Python\\Python310\\lib\\site-packages\\sklearn\\neural_network\\_multilayer_perceptron.py:691: ConvergenceWarning: Stochastic Optimizer: Maximum iterations (200) reached and the optimization hasn't converged yet.\n",
      "  warnings.warn(\n",
      "C:\\Users\\lf060\\AppData\\Local\\Programs\\Python\\Python310\\lib\\site-packages\\sklearn\\neural_network\\_multilayer_perceptron.py:691: ConvergenceWarning: Stochastic Optimizer: Maximum iterations (200) reached and the optimization hasn't converged yet.\n",
      "  warnings.warn(\n",
      "C:\\Users\\lf060\\AppData\\Local\\Programs\\Python\\Python310\\lib\\site-packages\\sklearn\\neural_network\\_multilayer_perceptron.py:691: ConvergenceWarning: Stochastic Optimizer: Maximum iterations (200) reached and the optimization hasn't converged yet.\n",
      "  warnings.warn(\n",
      "C:\\Users\\lf060\\AppData\\Local\\Programs\\Python\\Python310\\lib\\site-packages\\sklearn\\neural_network\\_multilayer_perceptron.py:691: ConvergenceWarning: Stochastic Optimizer: Maximum iterations (200) reached and the optimization hasn't converged yet.\n",
      "  warnings.warn(\n",
      "C:\\Users\\lf060\\AppData\\Local\\Programs\\Python\\Python310\\lib\\site-packages\\sklearn\\neural_network\\_multilayer_perceptron.py:691: ConvergenceWarning: Stochastic Optimizer: Maximum iterations (200) reached and the optimization hasn't converged yet.\n",
      "  warnings.warn(\n"
     ]
    },
    {
     "name": "stdout",
     "output_type": "stream",
     "text": [
      "Metrica: BaggingClassifier(estimator=MLPClassifier(), max_features=0.8, n_estimators=30)  | Accuracy: 0.98326\n",
      "[[63  0  1  0]\n",
      " [ 0 55  0  2]\n",
      " [ 0  0 65  0]\n",
      " [ 0  1  0 52]]\n"
     ]
    }
   ],
   "source": [
    "for name, X_train, X_test, y_train, y_test in datasets:\n",
    "    print(f\"\\n--------------------- {name} ---------------------\")\n",
    "    for exp in baggings:\n",
    "        aplicar_bagging_holdout(X_train, X_test, y_train, y_test, exp)\n"
   ]
  },
  {
   "cell_type": "code",
   "execution_count": null,
   "id": "8ce73321-1f43-433d-bb91-b71c48481354",
   "metadata": {},
   "outputs": [],
   "source": []
  }
 ],
 "metadata": {
  "kernelspec": {
   "display_name": "Python (TensorFlow 2.19)",
   "language": "python",
   "name": "tf219"
  },
  "language_info": {
   "codemirror_mode": {
    "name": "ipython",
    "version": 3
   },
   "file_extension": ".py",
   "mimetype": "text/x-python",
   "name": "python",
   "nbconvert_exporter": "python",
   "pygments_lexer": "ipython3",
   "version": "3.10.0"
  }
 },
 "nbformat": 4,
 "nbformat_minor": 5
}
